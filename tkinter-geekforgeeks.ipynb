{
 "cells": [
  {
   "cell_type": "markdown",
   "metadata": {},
   "source": [
    "[geekforgeeks tkinter](https://www.geeksforgeeks.org/python-gui-tkinter/)"
   ]
  },
  {
   "cell_type": "code",
   "execution_count": 1,
   "metadata": {},
   "outputs": [],
   "source": [
    "from tkinter import *\n",
    "\n",
    "master = Tk()\n",
    "Label(master, text='First Name').grid(row=0)\n",
    "Label(master, text='Last Name').grid(row=1)\n",
    "e1 = Entry(master)\n",
    "e2 = Entry(master)\n",
    "e1.grid(row=0, column=1)\n",
    "e2.grid(row=2, column=1)\n",
    "mainloop()\n"
   ]
  },
  {
   "cell_type": "code",
   "execution_count": 2,
   "metadata": {},
   "outputs": [],
   "source": [
    "from tkinter import *\n",
    "\n",
    "master = Tk()\n",
    "var1 = IntVar()\n",
    "Checkbutton(master, text='male', variable=var1).grid(row=0, sticky=W)\n",
    "var2 = IntVar()\n",
    "Checkbutton(master, text='female', variable=var2).grid(row=1, sticky=W)\n",
    "mainloop()"
   ]
  },
  {
   "cell_type": "code",
   "execution_count": 3,
   "metadata": {},
   "outputs": [],
   "source": [
    "from tkinter import *\n",
    "\n",
    "root = Tk()\n",
    "v = IntVar()\n",
    "Radiobutton(root, text='GfG', variable=v, value=1).pack(anchor=W)\n",
    "Radiobutton(root, text='MIT', variable=v, value=2).pack(anchor=W)\n",
    "mainloop()"
   ]
  },
  {
   "cell_type": "code",
   "execution_count": 4,
   "metadata": {},
   "outputs": [],
   "source": [
    "from tkinter import *\n",
    "\n",
    "top = Tk()\n",
    "Lb = Listbox(top)\n",
    "Lb.insert(1, 'Python')\n",
    "Lb.insert(2, 'Java')\n",
    "Lb.insert(3, 'C++')\n",
    "Lb.insert(4, 'Any other')\n",
    "Lb.pack()\n",
    "top.mainloop()"
   ]
  },
  {
   "cell_type": "code",
   "execution_count": 5,
   "metadata": {},
   "outputs": [],
   "source": [
    "from tkinter import *\n",
    "\n",
    "root = Tk()\n",
    "scrollbar = Scrollbar(root)\n",
    "scrollbar.pack(side=RIGHT, fill=Y)\n",
    "mylist = Listbox(root, yscrollcommand=scrollbar.set)\n",
    "\n",
    "for line in range(100):\n",
    "    mylist.insert(END, 'This is line number' + str(line))\n",
    "    \n",
    "mylist.pack(side=LEFT, fill=BOTH)\n",
    "scrollbar.config(command=mylist.yview)\n",
    "mainloop()"
   ]
  },
  {
   "cell_type": "code",
   "execution_count": 1,
   "metadata": {},
   "outputs": [],
   "source": [
    "from tkinter import *\n",
    "\n",
    "root = Tk()\n",
    "menu = Menu(root)\n",
    "root.config(menu=menu)\n",
    "filemenu = Menu(menu)\n",
    "menu.add_cascade(label='File', menu=filemenu)\n",
    "filemenu.add_command(label='New')\n",
    "filemenu.add_command(label='Open...')\n",
    "filemenu.add_separator()\n",
    "filemenu.add_command(label='Exit', command=root.quit)\n",
    "helpmenu = Menu(menu)\n",
    "menu.add_cascade(label='Help', menu=helpmenu)\n",
    "helpmenu.add_command(label='About')\n",
    "mainloop()"
   ]
  },
  {
   "cell_type": "code",
   "execution_count": 2,
   "metadata": {},
   "outputs": [],
   "source": [
    "import tkinter as tk\n",
    "from tkinter import ttk\n",
    "\n",
    "def on_select(event):\n",
    "    selected_item = combo_box.get()\n",
    "    label.config(text=\"Selected Item: \" + selected_item)\n",
    "\n",
    "root = tk.Tk()\n",
    "root.title(\"Combobox Example\")\n",
    "\n",
    "# Create a label\n",
    "label = tk.Label(root, text=\"Selected Item: \")\n",
    "label.pack(pady=10)\n",
    "\n",
    "# Create a Combobox widget\n",
    "combo_box = ttk.Combobox(root, values=[\"Option 1\", \"Option 2\", \"Option 3\"])\n",
    "combo_box.pack(pady=5)\n",
    "\n",
    "# Set default value\n",
    "combo_box.set(\"Option 1\")\n",
    "\n",
    "# Bind event to selection\n",
    "combo_box.bind(\"<<ComboboxSelected>>\", on_select)\n",
    "\n",
    "root.mainloop()"
   ]
  },
  {
   "cell_type": "code",
   "execution_count": 3,
   "metadata": {},
   "outputs": [],
   "source": [
    "from tkinter import *\n",
    "\n",
    "master = Tk()\n",
    "w = Scale(master, from_=0, to=42)\n",
    "w.pack()\n",
    "w = Scale(master, from_=0, to=200, orient=HORIZONTAL)\n",
    "w.pack()\n",
    "mainloop()"
   ]
  },
  {
   "cell_type": "code",
   "execution_count": 4,
   "metadata": {},
   "outputs": [],
   "source": [
    "from tkinter import *\n",
    "\n",
    "root = Tk()\n",
    "root.title('GfG')\n",
    "top = Toplevel()\n",
    "top.title('Python')\n",
    "top.mainloop()"
   ]
  },
  {
   "cell_type": "code",
   "execution_count": 5,
   "metadata": {},
   "outputs": [],
   "source": [
    "from tkinter import *\n",
    "\n",
    "main = Tk()\n",
    "ourMessage = 'This is our Message'\n",
    "messageVar = Message(main, text=ourMessage)\n",
    "messageVar.config(bg='lightgreen')\n",
    "messageVar.pack()\n",
    "main.mainloop()"
   ]
  },
  {
   "cell_type": "code",
   "execution_count": 6,
   "metadata": {},
   "outputs": [],
   "source": [
    "from tkinter import *\n",
    "\n",
    "top = Tk() \n",
    "mb = Menubutton ( top, text = \"GfG\") \n",
    "mb.grid() \n",
    "mb.menu = Menu ( mb, tearoff = 0 ) \n",
    "mb[\"menu\"] = mb.menu \n",
    "cVar = IntVar() \n",
    "aVar = IntVar() \n",
    "mb.menu.add_checkbutton ( label ='Contact', variable = cVar ) \n",
    "mb.menu.add_checkbutton ( label = 'About', variable = aVar ) \n",
    "mb.pack() \n",
    "top.mainloop() "
   ]
  },
  {
   "cell_type": "code",
   "execution_count": 7,
   "metadata": {},
   "outputs": [],
   "source": [
    "import tkinter as tk\n",
    "from tkinter import ttk\n",
    "import time\n",
    "\n",
    "def start_progress():\n",
    "    progress.start()\n",
    "\n",
    "    # Simulate a task that takes time to complete\n",
    "    for i in range(101):\n",
    "      # Simulate some work\n",
    "        time.sleep(0.05)  \n",
    "        progress['value'] = i\n",
    "        # Update the GUI\n",
    "        root.update_idletasks()  \n",
    "    progress.stop()\n",
    "\n",
    "root = tk.Tk()\n",
    "root.title(\"Progressbar Example\")\n",
    "\n",
    "# Create a progressbar widget\n",
    "progress = ttk.Progressbar(root, orient=\"horizontal\", length=300, mode=\"determinate\")\n",
    "progress.pack(pady=20)\n",
    "\n",
    "# Button to start progress\n",
    "start_button = tk.Button(root, text=\"Start Progress\", command=start_progress)\n",
    "start_button.pack(pady=10)\n",
    "\n",
    "root.mainloop()"
   ]
  },
  {
   "cell_type": "code",
   "execution_count": 8,
   "metadata": {},
   "outputs": [],
   "source": [
    "from tkinter import *\n",
    "\n",
    "master = Tk()\n",
    "w = Spinbox(master, from_=0, to=10)\n",
    "w.pack()\n",
    "mainloop()"
   ]
  },
  {
   "cell_type": "code",
   "execution_count": 9,
   "metadata": {},
   "outputs": [],
   "source": [
    "from tkinter import *\n",
    "\n",
    "root = Tk()\n",
    "T = Text(root, height=2, width=30)\n",
    "T.pack()\n",
    "T.insert(END, 'GeeksforGeeks\\nBEST WEBSITE\\n')\n",
    "mainloop()"
   ]
  },
  {
   "cell_type": "code",
   "execution_count": 10,
   "metadata": {},
   "outputs": [],
   "source": [
    "from tkinter import *\n",
    "\n",
    "master = Tk()\n",
    "w = Canvas(master, width=40, height=60)\n",
    "w.pack()\n",
    "canvas_height=20\n",
    "canvas_width=200\n",
    "y = int(canvas_height / 2)\n",
    "w.create_line(0, y, canvas_width, y )\n",
    "mainloop()"
   ]
  },
  {
   "cell_type": "code",
   "execution_count": 11,
   "metadata": {},
   "outputs": [],
   "source": [
    "from tkinter import *\n",
    "\n",
    "m1 = PanedWindow()\n",
    "m1.pack(fill=BOTH, expand=1)\n",
    "left = Entry(m1, bd=5)\n",
    "m1.add(left)\n",
    "m2 = PanedWindow(m1, orient=VERTICAL)\n",
    "m1.add(m2)\n",
    "top = Scale(m2, orient=HORIZONTAL)\n",
    "m2.add(top)\n",
    "mainloop()"
   ]
  },
  {
   "cell_type": "code",
   "execution_count": 12,
   "metadata": {},
   "outputs": [],
   "source": [
    "import tkinter as tk\n",
    "\n",
    "root = tk.Tk()\n",
    "root.title(\"Color Options in Tkinter\")\n",
    "\n",
    "# Create a button with active background and foreground colors\n",
    "button = tk.Button(root, text=\"Click Me\", activebackground=\"blue\", activeforeground=\"white\")\n",
    "button.pack()\n",
    "\n",
    "# Create a label with background and foreground colors\n",
    "label = tk.Label(root, text=\"Hello, Tkinter!\", bg=\"lightgray\", fg=\"black\")\n",
    "label.pack()\n",
    "\n",
    "# Create an Entry widget with selection colors\n",
    "entry = tk.Entry(root, selectbackground=\"lightblue\", selectforeground=\"black\")\n",
    "entry.pack()\n",
    "\n",
    "root.mainloop()"
   ]
  },
  {
   "cell_type": "code",
   "execution_count": 13,
   "metadata": {},
   "outputs": [],
   "source": [
    "import tkinter as tk\n",
    "\n",
    "root = tk.Tk()\n",
    "root.title(\"Pack Example\")\n",
    "\n",
    "# Create three buttons\n",
    "button1 = tk.Button(root, text=\"Button 1\")\n",
    "button2 = tk.Button(root, text=\"Button 2\")\n",
    "button3 = tk.Button(root, text=\"Button 3\")\n",
    "\n",
    "# Pack the buttons vertically\n",
    "button1.pack()\n",
    "button2.pack()\n",
    "button3.pack()\n",
    "\n",
    "root.mainloop()"
   ]
  },
  {
   "cell_type": "code",
   "execution_count": 14,
   "metadata": {},
   "outputs": [],
   "source": [
    "import tkinter as tk\n",
    "\n",
    "root = tk.Tk()\n",
    "root.title(\"Grid Example\")\n",
    "\n",
    "# Create three labels\n",
    "label1 = tk.Label(root, text=\"Label 1\")\n",
    "label2 = tk.Label(root, text=\"Label 2\")\n",
    "label3 = tk.Label(root, text=\"Label 3\")\n",
    "\n",
    "# Grid the labels in a 2x2 grid\n",
    "label1.grid(row=0, column=0)\n",
    "label2.grid(row=0, column=1)\n",
    "label3.grid(row=1, column=0, columnspan=2)\n",
    "\n",
    "root.mainloop()"
   ]
  },
  {
   "cell_type": "code",
   "execution_count": 15,
   "metadata": {},
   "outputs": [],
   "source": [
    "import tkinter as tk\n",
    "\n",
    "root = tk.Tk()\n",
    "root.title(\"Place Example\")\n",
    "\n",
    "# Create a label\n",
    "label = tk.Label(root, text=\"Label\")\n",
    "\n",
    "# Place the label at specific coordinates\n",
    "label.place(x=50, y=50)\n",
    "\n",
    "root.mainloop()"
   ]
  },
  {
   "cell_type": "code",
   "execution_count": null,
   "metadata": {},
   "outputs": [],
   "source": []
  }
 ],
 "metadata": {
  "kernelspec": {
   "display_name": "base",
   "language": "python",
   "name": "python3"
  },
  "language_info": {
   "codemirror_mode": {
    "name": "ipython",
    "version": 3
   },
   "file_extension": ".py",
   "mimetype": "text/x-python",
   "name": "python",
   "nbconvert_exporter": "python",
   "pygments_lexer": "ipython3",
   "version": "3.11.5"
  }
 },
 "nbformat": 4,
 "nbformat_minor": 2
}
