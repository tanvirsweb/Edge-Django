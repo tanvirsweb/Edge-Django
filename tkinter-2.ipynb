{
 "cells": [
  {
   "cell_type": "code",
   "execution_count": 11,
   "metadata": {},
   "outputs": [],
   "source": [
    "import tkinter as tk\n",
    "\n",
    "app = tk.Tk()\n",
    "# Set Window title\n",
    "app.title(\"My First Tkinter App\")\n",
    "# Set Window size\n",
    "app.geometry(\"540x540\")\n",
    "\n",
    "labelr = tk.Label(app, \n",
    "                  text=\"Welcome to Tkinter\", \n",
    "                  font=(\"Arial\",16) \n",
    "                  )\n",
    "labelr.pack(pady=20)\n",
    "\n",
    "\"\"\"\n",
    "labelr = tk.Label(app, \n",
    "                  text=\"Welcome to Tkinter\", \n",
    "                  font=(\"Arial\",16) \n",
    "                  ).pack(pady=20)\n",
    "                  \n",
    "for this code on_button_click() labelr.config(..) won't work\n",
    "as whats packed for widnow is tk.Label object not labelr.\n",
    "\"\"\"\n",
    "\n",
    "def on_button_click():\n",
    "    labelr.config(text=\"Button Clicked!\") \n",
    "    \n",
    "btn = tk.Button(app,\n",
    "                text=\"Click Me\",\n",
    "                font=(\"Arial\",20),\n",
    "                width=15,\n",
    "                command=on_button_click\n",
    "                ).pack(pady=20)\n",
    "# Input field\n",
    "entry = tk.Entry(app)\n",
    "entry.pack(pady=10)\n",
    "\n",
    "# Text box\n",
    "text = tk.Text(app,\n",
    "               height=5,\n",
    "               width=30\n",
    "               )\n",
    "text.pack(pady=10)\n",
    "\n",
    "# Check Button\n",
    "var = tk.IntVar()\n",
    "check = tk.Checkbutton(app)\n",
    "check.pack(pady=10)\n",
    "\n",
    "tk.Button(app,text=\"Stop app\", command=app.destroy).pack(pady=10)\n",
    "\n",
    "app.mainloop()"
   ]
  },
  {
   "cell_type": "code",
   "execution_count": 18,
   "metadata": {},
   "outputs": [],
   "source": [
    "root = tk.Tk()\n",
    "root.geometry(\"540x540\")\n",
    "\n",
    "lb1 = tk.Label(root, text=\"Label 01\", font=(\"Arial\", 15), bg=\"red\")\n",
    "lb2 = tk.Label(root, text=\"Label 02\", font=(\"Arial\", 15), bg=\"#007fff\")\n",
    "lb3 = tk.Label(root, text=\"Label 03\", font=(\"Arial\", 15), bg=\"#CCC\")\n",
    "\n",
    "lb1.grid(row=0, column=0)\n",
    "lb2.grid(row=0, column=1)\n",
    "lb3.grid(row=1, column=0, columnspan=2)\n",
    "\n",
    "root.mainloop()"
   ]
  },
  {
   "cell_type": "code",
   "execution_count": null,
   "metadata": {},
   "outputs": [],
   "source": []
  }
 ],
 "metadata": {
  "kernelspec": {
   "display_name": "base",
   "language": "python",
   "name": "python3"
  },
  "language_info": {
   "codemirror_mode": {
    "name": "ipython",
    "version": 3
   },
   "file_extension": ".py",
   "mimetype": "text/x-python",
   "name": "python",
   "nbconvert_exporter": "python",
   "pygments_lexer": "ipython3",
   "version": "3.11.5"
  }
 },
 "nbformat": 4,
 "nbformat_minor": 2
}
