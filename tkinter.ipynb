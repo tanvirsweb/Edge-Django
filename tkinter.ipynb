{
 "cells": [
  {
   "cell_type": "markdown",
   "metadata": {},
   "source": [
    "### Window+V : turn on--> can use clipboard history & select easily"
   ]
  },
  {
   "cell_type": "markdown",
   "metadata": {},
   "source": [
    "#### Resources\n",
    "- Real Python\n",
    "- Geek for Geeks\n",
    "- Tutorials Point"
   ]
  },
  {
   "cell_type": "code",
   "execution_count": 112,
   "metadata": {},
   "outputs": [
    {
     "name": "stdout",
     "output_type": "stream",
     "text": [
      "tkinter is installed\n"
     ]
    }
   ],
   "source": [
    "# !pip install tkinter\n",
    "import tkinter as tk\n",
    "\n",
    "print(\"tkinter is installed\")"
   ]
  },
  {
   "cell_type": "code",
   "execution_count": 113,
   "metadata": {},
   "outputs": [],
   "source": [
    "# Create the main application window\n",
    "root = tk.Tk()\n",
    "\n",
    "# set window title\n",
    "root.title(\"My First Tkinter App\")\n",
    "# set window size\n",
    "root.geometry(\"540x540\")\n",
    "\n",
    "label = tk.Label(root, text=\"Welcome to tkinter!\", font=(\"Arial\",20) )\n",
    "label.pack(pady=20)\n",
    "# label.pack()\n",
    "\n",
    "label2 = tk.Label(root, \n",
    "                 foreground=\"white\",\n",
    "                 background=\"black\",\n",
    "                 text=\"label in tkinter!\", \n",
    "                 font=(\"Arial\",15,\"bold\") \n",
    "                 ).pack(pady=20)\n"
   ]
  },
  {
   "cell_type": "code",
   "execution_count": 114,
   "metadata": {},
   "outputs": [],
   "source": [
    "\n",
    "label3 = tk.Label(root, \n",
    "                 text=\"label in tkinter!\", \n",
    "                 fg=\"white\",\n",
    "                 bg=\"black\",\n",
    "                 height=10,\n",
    "                 width=10\n",
    "                 )\n",
    "label3.pack(pady=20)"
   ]
  },
  {
   "cell_type": "code",
   "execution_count": 115,
   "metadata": {},
   "outputs": [],
   "source": [
    "btn_clicked = 1\n",
    "def buttonClick():\n",
    "    print(\"Button is clicked!\")\n",
    "    label.config(text=\"LogIn button is clicked!\")\n",
    "    \n",
    "button1 = tk.Button(root, \n",
    "                    text=\"LogIn\",\n",
    "                    font=(\"Arial\", 15),\n",
    "                    command=buttonClick\n",
    "                    )\n",
    "button1.pack(pady=20)\n"
   ]
  },
  {
   "cell_type": "code",
   "execution_count": 116,
   "metadata": {},
   "outputs": [
    {
     "name": "stdout",
     "output_type": "stream",
     "text": [
      "Button is clicked!\n",
      "Button is clicked!\n"
     ]
    }
   ],
   "source": [
    "root.mainloop()"
   ]
  }
 ],
 "metadata": {
  "kernelspec": {
   "display_name": "Python 3",
   "language": "python",
   "name": "python3"
  },
  "language_info": {
   "codemirror_mode": {
    "name": "ipython",
    "version": 3
   },
   "file_extension": ".py",
   "mimetype": "text/x-python",
   "name": "python",
   "nbconvert_exporter": "python",
   "pygments_lexer": "ipython3",
   "version": "3.11.5"
  }
 },
 "nbformat": 4,
 "nbformat_minor": 2
}
