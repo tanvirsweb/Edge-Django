{
 "cells": [
  {
   "cell_type": "markdown",
   "metadata": {},
   "source": [
    "### OOP\n",
    "- Modularity \n",
    "- Reusability\n",
    "- Scalability"
   ]
  },
  {
   "cell_type": "markdown",
   "metadata": {},
   "source": [
    "### Key Features\n",
    "- Encapsulation\n",
    "- Polymorphism\n",
    "- Inheritance\n",
    "- Abstraction"
   ]
  },
  {
   "cell_type": "code",
   "execution_count": 13,
   "metadata": {},
   "outputs": [
    {
     "name": "stdout",
     "output_type": "stream",
     "text": [
      "<class '__main__.Myclass'>\n",
      "5\n"
     ]
    }
   ],
   "source": [
    "class Myclass:\n",
    "    x = 5\n",
    "print(Myclass)\n",
    "print(Myclass.x)"
   ]
  },
  {
   "cell_type": "markdown",
   "metadata": {},
   "source": [
    "### Create Class and Object"
   ]
  },
  {
   "cell_type": "code",
   "execution_count": 14,
   "metadata": {},
   "outputs": [
    {
     "name": "stdout",
     "output_type": "stream",
     "text": [
      "6\n",
      "Black\n"
     ]
    }
   ],
   "source": [
    "class Person:\n",
    "    height = 6\n",
    "    color = \"Black\"\n",
    "\n",
    "p = Person()\n",
    "\n",
    "print(p.height)\n",
    "print(p.color)"
   ]
  },
  {
   "cell_type": "code",
   "execution_count": 15,
   "metadata": {},
   "outputs": [
    {
     "name": "stdout",
     "output_type": "stream",
     "text": [
      "6\n",
      "Black\n",
      "Hello! from method\n",
      "Hello Tanvir Anjom Siddique Alvi\n"
     ]
    }
   ],
   "source": [
    "class Person:\n",
    "    def __init__(self, height, color):\n",
    "        self.height = height\n",
    "        self.color = color\n",
    "\n",
    "    def Hello(self):\n",
    "        print(\"Hello! from method\")\n",
    "\n",
    "    def Hello_Name(self, name):\n",
    "        self.name = name\n",
    "        print(\"Hello \"+ self.name)\n",
    "\n",
    "# p is an object of Person named class\n",
    "p = Person(6, \"Black\")\n",
    "\n",
    "print(p.height)\n",
    "print(p.color)\n",
    "\n",
    "p.Hello()\n",
    "p.Hello_Name(\"Tanvir Anjom Siddique Alvi\")"
   ]
  },
  {
   "cell_type": "markdown",
   "metadata": {},
   "source": [
    "### Inheritance"
   ]
  },
  {
   "cell_type": "code",
   "execution_count": 16,
   "metadata": {},
   "outputs": [
    {
     "name": "stdout",
     "output_type": "stream",
     "text": [
      "Hello Tanvir Anjom Siddique\n",
      "Alvi Siddique\n"
     ]
    }
   ],
   "source": [
    "class Person:\n",
    "    def __init__(self, name, age):\n",
    "        self.name = name\n",
    "        self.age = age\n",
    "p1 = Person(\"Tanvir Anjom Siddique\", 25)\n",
    "\n",
    "print(f\"Hello {p1.name}\")\n",
    "\n",
    "\n",
    "# new class NewPerson which inherited all properties of Person class\n",
    "class NewPerson(Person):\n",
    "    def __init__(self, name, age, color, address):\n",
    "        super().__init__(name+ \" Siddique\", age) # call constructor of Super class\n",
    "        # self.name = name + \" Siddique\"\n",
    "        # self.age = age\n",
    "\n",
    "        self.color = color\n",
    "        self.address = address\n",
    "\n",
    "np = NewPerson(\"Alvi\", 25, \"White\", \"Tangail\")\n",
    "print(np.name)"
   ]
  },
  {
   "cell_type": "code",
   "execution_count": 17,
   "metadata": {},
   "outputs": [
    {
     "name": "stdout",
     "output_type": "stream",
     "text": [
      "Green Button is clicked!\n",
      "3px\n"
     ]
    }
   ],
   "source": [
    "class Button:\n",
    "    def __init__(self, color, shape):\n",
    "        self.color = color\n",
    "        self.shape = shape\n",
    "    \n",
    "    def buttonClick(self):\n",
    "        print(f\"{self.color} Button is clicked!\")\n",
    "        # print(self.color + \" Button is clicked!\")\n",
    "    \n",
    "button1 = Button(\"Green\", \"Square\")\n",
    "button1.buttonClick()\n",
    "\n",
    "\n",
    "class ShadowButon(Button):\n",
    "    def __init__(self, color, shape, shadow):\n",
    "        super().__init__(color, shape)\n",
    "\n",
    "        self.shadow = shadow\n",
    "    \n",
    "    def hoverAlert(self):\n",
    "        print(\"Thanks for hover\")\n",
    "\n",
    "\n",
    "shadowButon = ShadowButon(\"Green\", \"Rectangle\", \"3px\")\n",
    "print(shadowButon.shadow)"
   ]
  },
  {
   "cell_type": "markdown",
   "metadata": {},
   "source": [
    "### Polymorphism"
   ]
  },
  {
   "cell_type": "code",
   "execution_count": 18,
   "metadata": {},
   "outputs": [
    {
     "name": "stdout",
     "output_type": "stream",
     "text": [
      "Boat is moving at speed 4 km/hr\n",
      "Bike is moving at speed 30 km/h\n",
      "Car is moving at speed60 km/hr\n",
      "4 km/hr\n",
      "30 km/h\n",
      "60 km/hr\n"
     ]
    }
   ],
   "source": [
    "class Boat:\n",
    "    def __init__(self, speed):\n",
    "        self.speed = speed\n",
    "\n",
    "    def Move(self):\n",
    "        print(\"Boat is moving at speed \"+self.speed)\n",
    "\n",
    "class Bike:\n",
    "    def __init__(self, speed):\n",
    "        self.speed = speed\n",
    "\n",
    "    def Move(self):\n",
    "        print(\"Bike is moving at speed \"+self.speed)\n",
    "\n",
    "class Car:\n",
    "    def __init__(self, speed):\n",
    "        self.speed = speed\n",
    "\n",
    "    def Move(self):\n",
    "        print(\"Car is moving at speed\"+self.speed)\n",
    "\n",
    "boat = Boat(\"4 km/hr\")\n",
    "bike = Bike(\"30 km/h\")\n",
    "car = Car(\"60 km/hr\")\n",
    "\n",
    "boat.Move()\n",
    "bike.Move()\n",
    "car.Move()\n",
    "\n",
    "\n",
    "print(boat.speed)\n",
    "print(bike.speed)\n",
    "print(car.speed)"
   ]
  },
  {
   "cell_type": "code",
   "execution_count": null,
   "metadata": {},
   "outputs": [],
   "source": [
    "class Behicle:\n",
    "    def __init__(self, speed):\n",
    "        self.speed = speed\n",
    "    def Move(self):\n",
    "        print(\"Boat is moving at speed \"+self.speed)\n",
    "\n",
    "class Boat(Behicle):\n",
    "    def __init__(self, speed):\n",
    "        super().__init__(speed)\n",
    "class Bike(Behicle):\n",
    "    def __init__(self, speed):\n",
    "        super().__init__(speed)\n",
    "class Car(Behicle):\n",
    "    def __init__(self, speed):\n",
    "        super().__init__(speed)\n",
    "\n",
    "boat = Boat(\"4 km/hr\")\n",
    "bike = Bike(\"30 km/h\")\n",
    "car = Car(\"60 km/hr\")\n",
    "\n",
    "boat.Move()\n",
    "bike.Move()\n",
    "car.Move()\n",
    "\n",
    "\n",
    "print(boat.speed)\n",
    "print(bike.speed)\n",
    "print(car.speed)"
   ]
  },
  {
   "cell_type": "markdown",
   "metadata": {},
   "source": [
    "### RUET.js"
   ]
  },
  {
   "cell_type": "code",
   "execution_count": null,
   "metadata": {},
   "outputs": [],
   "source": []
  }
 ],
 "metadata": {
  "kernelspec": {
   "display_name": "Python 3",
   "language": "python",
   "name": "python3"
  },
  "language_info": {
   "codemirror_mode": {
    "name": "ipython",
    "version": 3
   },
   "file_extension": ".py",
   "mimetype": "text/x-python",
   "name": "python",
   "nbconvert_exporter": "python",
   "pygments_lexer": "ipython3",
   "version": "3.11.5"
  }
 },
 "nbformat": 4,
 "nbformat_minor": 2
}
