{
 "cells": [
  {
   "cell_type": "code",
   "execution_count": 7,
   "metadata": {},
   "outputs": [
    {
     "name": "stdout",
     "output_type": "stream",
     "text": [
      "4\n"
     ]
    }
   ],
   "source": [
    "x: int  = 4\n",
    "print(x)\n"
   ]
  },
  {
   "cell_type": "code",
   "execution_count": null,
   "metadata": {},
   "outputs": [],
   "source": [
    "from typing import Final\n",
    "VERSION : Final[str] = \"1.0.12\"\n",
    "print(VERSION)\n",
    "\n",
    "VERSION = 3\n",
    "print(VERSION)"
   ]
  },
  {
   "cell_type": "code",
   "execution_count": 4,
   "metadata": {},
   "outputs": [
    {
     "name": "stdout",
     "output_type": "stream",
     "text": [
      "Apple\n",
      "Orange\n",
      "Hello I am a Function\n"
     ]
    }
   ],
   "source": [
    "class TestSome:\n",
    "    def __init__(self, var1, var2):\n",
    "        self.var1 = var1\n",
    "        self.var2 = var2\n",
    "    \n",
    "    def testFunction(self):\n",
    "        print(\"Hello I am a Function\")\n",
    "\n",
    "object1 = TestSome(\"Apple\", \"Banana\")\n",
    "print(object1.var1)\n",
    "object1.var1 = \"Orange\"\n",
    "print(object1.var1)\n",
    "\n",
    "object1.testFunction()\n"
   ]
  },
  {
   "cell_type": "code",
   "execution_count": 8,
   "metadata": {},
   "outputs": [
    {
     "name": "stdout",
     "output_type": "stream",
     "text": [
      "Bike\n"
     ]
    }
   ],
   "source": [
    "class TestSome1:\n",
    "    def __init__(self, var1, var2):\n",
    "        # 2 underscore at begining of variable: Private\n",
    "        # 1 underscore : Protected\n",
    "        self.__Var1 = var1\n",
    "        self.__Var2 = var2\n",
    "    \n",
    "    def setVar1(self, var1):\n",
    "        self.__Var1 = var1\n",
    "    def getVar1(self):\n",
    "        return self.__Var1\n",
    "\n",
    "    \n",
    "    def testFunction(self):\n",
    "        print(\"Hello I am a Function\")\n",
    "\n",
    "obj = TestSome1(\"Bike\", \"Car\")\n",
    "print(obj.getVar1())"
   ]
  },
  {
   "cell_type": "code",
   "execution_count": 14,
   "metadata": {},
   "outputs": [
    {
     "name": "stdout",
     "output_type": "stream",
     "text": [
      "Green\n",
      "Red\n",
      "Child_Class\n"
     ]
    }
   ],
   "source": [
    "class Test3:\n",
    "    def __init__(self, var1):\n",
    "        self._Var1 = var1\n",
    "\n",
    "class Child(Test3):\n",
    "    def __init__(self, var1):\n",
    "        super().__init__(var1)\n",
    "\n",
    "    def getVar1(self):\n",
    "        return self._Var1\n",
    "    def setVar1(self, var1):\n",
    "        self._Var1 = var1\n",
    "        \n",
    "\n",
    "obj = Test3(\"Green\")\n",
    "print(obj._Var1)\n",
    "obj._Var1 = \"Red\"\n",
    "print(obj._Var1)\n",
    "\n",
    "obj2 = Child(\"Child_Class\")\n",
    "print( obj2.getVar1() )"
   ]
  },
  {
   "cell_type": "code",
   "execution_count": null,
   "metadata": {},
   "outputs": [],
   "source": []
  }
 ],
 "metadata": {
  "kernelspec": {
   "display_name": "Python 3",
   "language": "python",
   "name": "python3"
  },
  "language_info": {
   "codemirror_mode": {
    "name": "ipython",
    "version": 3
   },
   "file_extension": ".py",
   "mimetype": "text/x-python",
   "name": "python",
   "nbconvert_exporter": "python",
   "pygments_lexer": "ipython3",
   "version": "3.11.5"
  }
 },
 "nbformat": 4,
 "nbformat_minor": 2
}
